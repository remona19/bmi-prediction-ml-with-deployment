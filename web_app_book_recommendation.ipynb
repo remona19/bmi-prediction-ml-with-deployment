{
  "nbformat": 4,
  "nbformat_minor": 0,
  "metadata": {
    "colab": {
      "provenance": []
    },
    "kernelspec": {
      "name": "python3",
      "display_name": "Python 3"
    },
    "language_info": {
      "name": "python"
    }
  },
  "cells": [
    {
      "cell_type": "code",
      "source": [
        "from flask import Flask,render_template,request\n",
        "import pickle\n",
        "import numpy as np\n",
        "\n",
        "popular_df = pickle.load(open('/content/drive/MyDrive/book rec sys deployment/popular.pkl','rb'))\n",
        "pt = pickle.load(open('/content/drive/MyDrive/book rec sys deployment/pt.pkl','rb'))\n",
        "books = pickle.load(open('/content/drive/MyDrive/book rec sys deployment/books.pkl','rb'))\n",
        "similarity_scores = pickle.load(open('/content/drive/MyDrive/book rec sys deployment/similarity_scores.pkl','rb'))\n",
        "\n",
        "app = Flask(__name__)\n",
        "\n",
        "@app.route('/')\n",
        "def index():\n",
        "    return render_template('index.html',\n",
        "                           book_name = list(popular_df['Book-Title'].values),\n",
        "                           author=list(popular_df['Book-Author'].values),\n",
        "                           image=list(popular_df['Image-URL-M'].values),\n",
        "                           votes=list(popular_df['num_ratings'].values),\n",
        "                           rating=list(popular_df['avg_rating'].values)\n",
        "                           )\n",
        "\n",
        "@app.route('/recommend')\n",
        "def recommend_ui():\n",
        "    return render_template('recommend.html')\n",
        "\n",
        "@app.route('/recommend_books',methods=['post'])\n",
        "def recommend():\n",
        "    user_input = request.form.get('user_input')\n",
        "    index = np.where(pt.index == user_input)[0][0]\n",
        "    similar_items = sorted(list(enumerate(similarity_scores[index])), key=lambda x: x[1], reverse=True)[1:6]\n",
        "\n",
        "    data = []\n",
        "    for i in similar_items:\n",
        "        item = []\n",
        "        temp_df = books[books['Book-Title'] == pt.index[i[0]]]\n",
        "        item.extend(list(temp_df.drop_duplicates('Book-Title')['Book-Title'].values))\n",
        "        item.extend(list(temp_df.drop_duplicates('Book-Title')['Book-Author'].values))\n",
        "        item.extend(list(temp_df.drop_duplicates('Book-Title')['Image-URL-M'].values))\n",
        "\n",
        "        data.append(item)\n",
        "\n",
        "    print(data)\n",
        "\n",
        "    return render_template('recommend.html',data=data)\n",
        "\n",
        "if __name__ == '__main__':\n",
        "    app.run(debug=True)"
      ],
      "metadata": {
        "colab": {
          "base_uri": "https://localhost:8080/"
        },
        "id": "oxPgF3OtbXRF",
        "outputId": "186df3df-a3da-4d0d-98bf-045ed303ea2a"
      },
      "execution_count": 3,
      "outputs": [
        {
          "metadata": {
            "tags": null
          },
          "name": "stdout",
          "output_type": "stream",
          "text": [
            " * Serving Flask app '__main__'\n",
            " * Debug mode: on\n"
          ]
        },
        {
          "metadata": {
            "tags": null
          },
          "name": "stderr",
          "output_type": "stream",
          "text": [
            "INFO:werkzeug:\u001b[31m\u001b[1mWARNING: This is a development server. Do not use it in a production deployment. Use a production WSGI server instead.\u001b[0m\n",
            " * Running on http://127.0.0.1:5000\n",
            "INFO:werkzeug:\u001b[33mPress CTRL+C to quit\u001b[0m\n",
            "INFO:werkzeug: * Restarting with stat\n"
          ]
        }
      ]
    },
    {
      "cell_type": "code",
      "source": [],
      "metadata": {
        "id": "9jxdU77QbmJU"
      },
      "execution_count": null,
      "outputs": []
    }
  ]
}